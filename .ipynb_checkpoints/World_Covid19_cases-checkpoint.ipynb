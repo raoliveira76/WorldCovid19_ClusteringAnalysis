{
 "cells": [
  {
   "cell_type": "markdown",
   "metadata": {},
   "source": [
    "# PROJECT #3 - CLUSTER ANALYSIS - UNSUPERVISED CLASSIFICATION"
   ]
  },
  {
   "cell_type": "markdown",
   "metadata": {},
   "source": [
    "### Objective: *using the dataset of country-level COVID-19 cases of July 19, 2020, verify if it is possible to identify a pattern of groups of country with similar characteristics*."
   ]
  },
  {
   "cell_type": "markdown",
   "metadata": {},
   "source": [
    "## Step 1 - Importing the dataset"
   ]
  },
  {
   "cell_type": "code",
   "execution_count": 1,
   "metadata": {},
   "outputs": [
    {
     "data": {
      "text/html": [
       "<div>\n",
       "<style scoped>\n",
       "    .dataframe tbody tr th:only-of-type {\n",
       "        vertical-align: middle;\n",
       "    }\n",
       "\n",
       "    .dataframe tbody tr th {\n",
       "        vertical-align: top;\n",
       "    }\n",
       "\n",
       "    .dataframe thead th {\n",
       "        text-align: right;\n",
       "    }\n",
       "</style>\n",
       "<table border=\"1\" class=\"dataframe\">\n",
       "  <thead>\n",
       "    <tr style=\"text-align: right;\">\n",
       "      <th></th>\n",
       "      <th>Number</th>\n",
       "      <th>Country</th>\n",
       "      <th>Total Cases</th>\n",
       "      <th>New Cases</th>\n",
       "      <th>Total Deaths</th>\n",
       "      <th>New Deaths</th>\n",
       "      <th>Total Recovered</th>\n",
       "      <th>Active Cases</th>\n",
       "      <th>Critical Cases</th>\n",
       "      <th>Tot Cases/1M pop</th>\n",
       "      <th>Deaths/1M pop</th>\n",
       "      <th>Total Tests</th>\n",
       "      <th>Tests/1M pop</th>\n",
       "      <th>Population</th>\n",
       "    </tr>\n",
       "  </thead>\n",
       "  <tbody>\n",
       "    <tr>\n",
       "      <th>0</th>\n",
       "      <td>1</td>\n",
       "      <td>USA</td>\n",
       "      <td>3,893,949</td>\n",
       "      <td>60,678</td>\n",
       "      <td>143,263</td>\n",
       "      <td>386.0</td>\n",
       "      <td>1,802,110</td>\n",
       "      <td>1,948,576</td>\n",
       "      <td>16,616</td>\n",
       "      <td>11,761</td>\n",
       "      <td>433</td>\n",
       "      <td>48,324,182</td>\n",
       "      <td>145,951</td>\n",
       "      <td>331,097,557</td>\n",
       "    </tr>\n",
       "    <tr>\n",
       "      <th>1</th>\n",
       "      <td>2</td>\n",
       "      <td>Brazil</td>\n",
       "      <td>2,098,389</td>\n",
       "      <td>23,143</td>\n",
       "      <td>79,488</td>\n",
       "      <td>671.0</td>\n",
       "      <td>1,371,229</td>\n",
       "      <td>647,672</td>\n",
       "      <td>8,318</td>\n",
       "      <td>9,869</td>\n",
       "      <td>374</td>\n",
       "      <td>4,911,063</td>\n",
       "      <td>23,096</td>\n",
       "      <td>212,632,374</td>\n",
       "    </tr>\n",
       "    <tr>\n",
       "      <th>2</th>\n",
       "      <td>3</td>\n",
       "      <td>India</td>\n",
       "      <td>1,118,107</td>\n",
       "      <td>40,243</td>\n",
       "      <td>27,503</td>\n",
       "      <td>675.0</td>\n",
       "      <td>700,399</td>\n",
       "      <td>390,205</td>\n",
       "      <td>8,944</td>\n",
       "      <td>810</td>\n",
       "      <td>20</td>\n",
       "      <td>13,791,869</td>\n",
       "      <td>9,989</td>\n",
       "      <td>1,380,641,231</td>\n",
       "    </tr>\n",
       "    <tr>\n",
       "      <th>3</th>\n",
       "      <td>4</td>\n",
       "      <td>Russia</td>\n",
       "      <td>771,546</td>\n",
       "      <td>6,109</td>\n",
       "      <td>12,342</td>\n",
       "      <td>95.0</td>\n",
       "      <td>550,344</td>\n",
       "      <td>208,860</td>\n",
       "      <td>2,300</td>\n",
       "      <td>5,287</td>\n",
       "      <td>85</td>\n",
       "      <td>24,991,740</td>\n",
       "      <td>171,249</td>\n",
       "      <td>145,937,686</td>\n",
       "    </tr>\n",
       "    <tr>\n",
       "      <th>4</th>\n",
       "      <td>5</td>\n",
       "      <td>South Africa</td>\n",
       "      <td>364,328</td>\n",
       "      <td>13,449</td>\n",
       "      <td>5,033</td>\n",
       "      <td>85.0</td>\n",
       "      <td>191,059</td>\n",
       "      <td>168,236</td>\n",
       "      <td>539</td>\n",
       "      <td>6,139</td>\n",
       "      <td>85</td>\n",
       "      <td>2,471,747</td>\n",
       "      <td>41,652</td>\n",
       "      <td>59,342,751</td>\n",
       "    </tr>\n",
       "  </tbody>\n",
       "</table>\n",
       "</div>"
      ],
      "text/plain": [
       "   Number       Country Total Cases New Cases Total Deaths  New Deaths  \\\n",
       "0       1           USA   3,893,949    60,678      143,263       386.0   \n",
       "1       2        Brazil   2,098,389    23,143       79,488       671.0   \n",
       "2       3         India   1,118,107    40,243       27,503       675.0   \n",
       "3       4        Russia     771,546     6,109       12,342        95.0   \n",
       "4       5  South Africa     364,328    13,449        5,033        85.0   \n",
       "\n",
       "  Total Recovered Active Cases Critical Cases Tot Cases/1M pop Deaths/1M pop  \\\n",
       "0       1,802,110    1,948,576         16,616           11,761           433   \n",
       "1       1,371,229      647,672          8,318            9,869           374   \n",
       "2         700,399      390,205          8,944              810            20   \n",
       "3         550,344      208,860          2,300            5,287            85   \n",
       "4         191,059      168,236            539            6,139            85   \n",
       "\n",
       "  Total Tests Tests/1M pop     Population  \n",
       "0  48,324,182      145,951    331,097,557  \n",
       "1   4,911,063       23,096    212,632,374  \n",
       "2  13,791,869        9,989  1,380,641,231  \n",
       "3  24,991,740      171,249    145,937,686  \n",
       "4   2,471,747       41,652     59,342,751  "
      ]
     },
     "execution_count": 1,
     "metadata": {},
     "output_type": "execute_result"
    }
   ],
   "source": [
    "import pandas as pd\n",
    "import numpy as np\n",
    "\n",
    "random_state = 20200720\n",
    "np.seterr(divide='ignore', invalid='ignore')\n",
    "\n",
    "df = pd.read_csv(\"World_Covid19_cases.csv\", sep=',')\n",
    "df.head()"
   ]
  },
  {
   "cell_type": "markdown",
   "metadata": {},
   "source": [
    "## Step 2 - Preprocessing"
   ]
  },
  {
   "cell_type": "code",
   "execution_count": 2,
   "metadata": {},
   "outputs": [
    {
     "data": {
      "text/plain": [
       "(214, 14)"
      ]
     },
     "execution_count": 2,
     "metadata": {},
     "output_type": "execute_result"
    }
   ],
   "source": [
    "# dimensions of the dataset\n",
    "df.shape"
   ]
  },
  {
   "cell_type": "code",
   "execution_count": 3,
   "metadata": {},
   "outputs": [
    {
     "data": {
      "text/plain": [
       "(214, 8)"
      ]
     },
     "execution_count": 3,
     "metadata": {},
     "output_type": "execute_result"
    }
   ],
   "source": [
    "# 2a - Selection of columns\n",
    "columns = ['Country', 'Total Cases', 'Total Deaths', 'Total Recovered', \n",
    "           'Active Cases', 'Critical Cases', 'Total Tests', 'Population']\n",
    "\n",
    "df_use = df[columns]\n",
    "df_use.shape"
   ]
  },
  {
   "cell_type": "code",
   "execution_count": 4,
   "metadata": {},
   "outputs": [
    {
     "data": {
      "text/html": [
       "<div>\n",
       "<style scoped>\n",
       "    .dataframe tbody tr th:only-of-type {\n",
       "        vertical-align: middle;\n",
       "    }\n",
       "\n",
       "    .dataframe tbody tr th {\n",
       "        vertical-align: top;\n",
       "    }\n",
       "\n",
       "    .dataframe thead th {\n",
       "        text-align: right;\n",
       "    }\n",
       "</style>\n",
       "<table border=\"1\" class=\"dataframe\">\n",
       "  <thead>\n",
       "    <tr style=\"text-align: right;\">\n",
       "      <th></th>\n",
       "      <th>Country</th>\n",
       "      <th>Total Cases</th>\n",
       "      <th>Total Deaths</th>\n",
       "      <th>Total Recovered</th>\n",
       "      <th>Active Cases</th>\n",
       "      <th>Critical Cases</th>\n",
       "      <th>Total Tests</th>\n",
       "      <th>Population</th>\n",
       "    </tr>\n",
       "  </thead>\n",
       "  <tbody>\n",
       "    <tr>\n",
       "      <th>0</th>\n",
       "      <td>USA</td>\n",
       "      <td>3893949</td>\n",
       "      <td>143263</td>\n",
       "      <td>1802110</td>\n",
       "      <td>1948576</td>\n",
       "      <td>16616</td>\n",
       "      <td>48324182</td>\n",
       "      <td>331097557</td>\n",
       "    </tr>\n",
       "    <tr>\n",
       "      <th>1</th>\n",
       "      <td>Brazil</td>\n",
       "      <td>2098389</td>\n",
       "      <td>79488</td>\n",
       "      <td>1371229</td>\n",
       "      <td>647672</td>\n",
       "      <td>8318</td>\n",
       "      <td>4911063</td>\n",
       "      <td>212632374</td>\n",
       "    </tr>\n",
       "    <tr>\n",
       "      <th>2</th>\n",
       "      <td>India</td>\n",
       "      <td>1118107</td>\n",
       "      <td>27503</td>\n",
       "      <td>700399</td>\n",
       "      <td>390205</td>\n",
       "      <td>8944</td>\n",
       "      <td>13791869</td>\n",
       "      <td>1380641231</td>\n",
       "    </tr>\n",
       "    <tr>\n",
       "      <th>3</th>\n",
       "      <td>Russia</td>\n",
       "      <td>771546</td>\n",
       "      <td>12342</td>\n",
       "      <td>550344</td>\n",
       "      <td>208860</td>\n",
       "      <td>2300</td>\n",
       "      <td>24991740</td>\n",
       "      <td>145937686</td>\n",
       "    </tr>\n",
       "    <tr>\n",
       "      <th>4</th>\n",
       "      <td>South Africa</td>\n",
       "      <td>364328</td>\n",
       "      <td>5033</td>\n",
       "      <td>191059</td>\n",
       "      <td>168236</td>\n",
       "      <td>539</td>\n",
       "      <td>2471747</td>\n",
       "      <td>59342751</td>\n",
       "    </tr>\n",
       "  </tbody>\n",
       "</table>\n",
       "</div>"
      ],
      "text/plain": [
       "        Country Total Cases Total Deaths Total Recovered Active Cases  \\\n",
       "0           USA     3893949       143263         1802110      1948576   \n",
       "1        Brazil     2098389        79488         1371229       647672   \n",
       "2         India     1118107        27503          700399       390205   \n",
       "3        Russia      771546        12342          550344       208860   \n",
       "4  South Africa      364328         5033          191059       168236   \n",
       "\n",
       "  Critical Cases Total Tests  Population  \n",
       "0          16616    48324182   331097557  \n",
       "1           8318     4911063   212632374  \n",
       "2           8944    13791869  1380641231  \n",
       "3           2300    24991740   145937686  \n",
       "4            539     2471747    59342751  "
      ]
     },
     "execution_count": 4,
     "metadata": {},
     "output_type": "execute_result"
    }
   ],
   "source": [
    "# 2b - Removing the comma in the numeric colums\n",
    "df_use = df_use[columns].replace(\",\", \"\", regex=True)\n",
    "df_use.head()"
   ]
  },
  {
   "cell_type": "code",
   "execution_count": 5,
   "metadata": {},
   "outputs": [
    {
     "data": {
      "text/plain": [
       "Country            object\n",
       "Total Cases        object\n",
       "Total Deaths       object\n",
       "Total Recovered    object\n",
       "Active Cases       object\n",
       "Critical Cases     object\n",
       "Total Tests        object\n",
       "Population         object\n",
       "dtype: object"
      ]
     },
     "execution_count": 5,
     "metadata": {},
     "output_type": "execute_result"
    }
   ],
   "source": [
    "df_use.dtypes"
   ]
  },
  {
   "cell_type": "code",
   "execution_count": 6,
   "metadata": {},
   "outputs": [
    {
     "data": {
      "text/plain": [
       "Total Cases        float64\n",
       "Total Deaths       float64\n",
       "Total Recovered    float64\n",
       "Active Cases       float64\n",
       "Critical Cases     float64\n",
       "Total Tests        float64\n",
       "Population         float64\n",
       "Country             object\n",
       "dtype: object"
      ]
     },
     "execution_count": 6,
     "metadata": {},
     "output_type": "execute_result"
    }
   ],
   "source": [
    "# 2c - Converting to numeric values\n",
    "columns_temp = ['Total Cases', 'Total Deaths', 'Total Recovered', 'Active Cases', \n",
    "                'Critical Cases', 'Total Tests', 'Population']\n",
    "\n",
    "df_temp = df_use[columns_temp].apply(pd.to_numeric, errors='coerce')\n",
    "\n",
    "# 2d - Appending the 'Country' column to dataset\n",
    "df_temp['Country'] = df_use['Country']\n",
    "df_use = df_temp\n",
    "\n",
    "df_use.dtypes"
   ]
  },
  {
   "cell_type": "code",
   "execution_count": 7,
   "metadata": {},
   "outputs": [
    {
     "data": {
      "text/plain": [
       "Total Cases         1\n",
       "Total Deaths       28\n",
       "Total Recovered     1\n",
       "Active Cases        1\n",
       "Critical Cases     86\n",
       "Total Tests        20\n",
       "Population          2\n",
       "Country             1\n",
       "dtype: int64"
      ]
     },
     "execution_count": 7,
     "metadata": {},
     "output_type": "execute_result"
    }
   ],
   "source": [
    "df_use.isnull().sum()"
   ]
  },
  {
   "cell_type": "code",
   "execution_count": 8,
   "metadata": {},
   "outputs": [
    {
     "data": {
      "text/plain": [
       "Total Cases         1\n",
       "Total Deaths        0\n",
       "Total Recovered     1\n",
       "Active Cases        1\n",
       "Critical Cases      0\n",
       "Total Tests        20\n",
       "Population          2\n",
       "Country             1\n",
       "dtype: int64"
      ]
     },
     "execution_count": 8,
     "metadata": {},
     "output_type": "execute_result"
    }
   ],
   "source": [
    "# 2e - Missing values to 0 in 'Total Deaths' and 'Critical Cases' columns\n",
    "df_use[['Total Deaths', 'Critical Cases']] = df_use[['Total Deaths', 'Critical Cases']].fillna(0)\n",
    "\n",
    "df_use.isna().sum()"
   ]
  },
  {
   "cell_type": "code",
   "execution_count": 9,
   "metadata": {},
   "outputs": [
    {
     "data": {
      "text/plain": [
       "Total Cases        0\n",
       "Total Deaths       0\n",
       "Total Recovered    0\n",
       "Active Cases       0\n",
       "Critical Cases     0\n",
       "Total Tests        0\n",
       "Population         0\n",
       "Country            0\n",
       "dtype: int64"
      ]
     },
     "execution_count": 9,
     "metadata": {},
     "output_type": "execute_result"
    }
   ],
   "source": [
    "# 2f - Dropping missing values\n",
    "df_use.dropna(inplace=True)\n",
    "\n",
    "df_use.isna().sum()"
   ]
  },
  {
   "cell_type": "code",
   "execution_count": 10,
   "metadata": {},
   "outputs": [
    {
     "data": {
      "text/plain": [
       "(194, 8)"
      ]
     },
     "execution_count": 10,
     "metadata": {},
     "output_type": "execute_result"
    }
   ],
   "source": [
    "df_use.shape"
   ]
  },
  {
   "cell_type": "code",
   "execution_count": 11,
   "metadata": {},
   "outputs": [
    {
     "data": {
      "text/plain": [
       "Total Cases        float64\n",
       "Total Deaths       float64\n",
       "Total Recovered    float64\n",
       "Active Cases       float64\n",
       "Critical Cases     float64\n",
       "Total Tests        float64\n",
       "Population         float64\n",
       "Country             object\n",
       "dtype: object"
      ]
     },
     "execution_count": 11,
     "metadata": {},
     "output_type": "execute_result"
    }
   ],
   "source": [
    "df_use.dtypes"
   ]
  },
  {
   "cell_type": "code",
   "execution_count": 12,
   "metadata": {},
   "outputs": [
    {
     "data": {
      "text/plain": [
       "Total Cases        float64\n",
       "Total Deaths       float64\n",
       "Total Recovered    float64\n",
       "Active Cases       float64\n",
       "Critical Cases     float64\n",
       "Total Tests        float64\n",
       "Population         float64\n",
       "Country             object\n",
       "dtype: object"
      ]
     },
     "execution_count": 12,
     "metadata": {},
     "output_type": "execute_result"
    }
   ],
   "source": [
    "# converting the 'object' type to numeric\n",
    "df_temp = df_use[columns_temp].apply(pd.to_numeric, errors='coerce')\n",
    "df_temp['Country'] = df_use['Country']\n",
    "df_use = df_temp\n",
    "\n",
    "df_use.dtypes"
   ]
  },
  {
   "cell_type": "code",
   "execution_count": 13,
   "metadata": {},
   "outputs": [],
   "source": [
    "# 2g - Creating new column\n",
    "df_use['Pop_ml'] = df_use['Population'] / 1000000"
   ]
  },
  {
   "cell_type": "code",
   "execution_count": 14,
   "metadata": {},
   "outputs": [],
   "source": [
    "# 2h - Creating new columns\n",
    "df_use['Mortality_rate'] = df_use['Total Deaths'] / df_use['Total Cases']\n",
    "df_use['Cases_per_ml'] = df_use['Total Cases'] / df_use['Pop_ml']\n",
    "df_use['Deaths_per_ml'] = df_use['Total Deaths'] / df_use['Pop_ml']\n",
    "df_use['Recovered_per_ml'] = df_use['Total Recovered'] / df_use['Pop_ml']\n",
    "df_use['Active_per_ml'] = df_use['Active Cases'] / df_use['Pop_ml']\n",
    "df_use['Critical_per_ml'] = df_use['Critical Cases'] / df_use['Pop_ml']\n",
    "df_use['Tests_per_ml'] = df_use['Total Tests'] / df_use['Pop_ml']"
   ]
  },
  {
   "cell_type": "code",
   "execution_count": 15,
   "metadata": {},
   "outputs": [
    {
     "data": {
      "text/plain": [
       "Total Cases         float64\n",
       "Total Deaths        float64\n",
       "Total Recovered     float64\n",
       "Active Cases        float64\n",
       "Critical Cases      float64\n",
       "Total Tests         float64\n",
       "Population          float64\n",
       "Country              object\n",
       "Pop_ml              float64\n",
       "Mortality_rate      float64\n",
       "Cases_per_ml        float64\n",
       "Deaths_per_ml       float64\n",
       "Recovered_per_ml    float64\n",
       "Active_per_ml       float64\n",
       "Critical_per_ml     float64\n",
       "Tests_per_ml        float64\n",
       "dtype: object"
      ]
     },
     "execution_count": 15,
     "metadata": {},
     "output_type": "execute_result"
    }
   ],
   "source": [
    "df_use.dtypes"
   ]
  },
  {
   "cell_type": "code",
   "execution_count": 16,
   "metadata": {},
   "outputs": [
    {
     "data": {
      "text/plain": [
       "(194, 8)"
      ]
     },
     "execution_count": 16,
     "metadata": {},
     "output_type": "execute_result"
    }
   ],
   "source": [
    "# 2i - dropping unnecessary columns for processing\n",
    "columns_drop = ['Total Cases', 'Total Deaths', 'Total Recovered', 'Active Cases', \n",
    "                'Critical Cases', 'Total Tests', 'Population', 'Pop_ml']\n",
    "\n",
    "df_final = df_use.drop(columns=columns_drop, axis=0)\n",
    "\n",
    "df_final.shape"
   ]
  },
  {
   "cell_type": "code",
   "execution_count": 17,
   "metadata": {},
   "outputs": [
    {
     "data": {
      "text/html": [
       "<div>\n",
       "<style scoped>\n",
       "    .dataframe tbody tr th:only-of-type {\n",
       "        vertical-align: middle;\n",
       "    }\n",
       "\n",
       "    .dataframe tbody tr th {\n",
       "        vertical-align: top;\n",
       "    }\n",
       "\n",
       "    .dataframe thead th {\n",
       "        text-align: right;\n",
       "    }\n",
       "</style>\n",
       "<table border=\"1\" class=\"dataframe\">\n",
       "  <thead>\n",
       "    <tr style=\"text-align: right;\">\n",
       "      <th></th>\n",
       "      <th>Country</th>\n",
       "      <th>Mortality_rate</th>\n",
       "      <th>Cases_per_ml</th>\n",
       "      <th>Deaths_per_ml</th>\n",
       "      <th>Recovered_per_ml</th>\n",
       "      <th>Active_per_ml</th>\n",
       "      <th>Critical_per_ml</th>\n",
       "      <th>Tests_per_ml</th>\n",
       "    </tr>\n",
       "  </thead>\n",
       "  <tbody>\n",
       "    <tr>\n",
       "      <th>0</th>\n",
       "      <td>USA</td>\n",
       "      <td>0.036791</td>\n",
       "      <td>11760.730086</td>\n",
       "      <td>432.691202</td>\n",
       "      <td>5442.836898</td>\n",
       "      <td>5885.201986</td>\n",
       "      <td>50.184605</td>\n",
       "      <td>145951.490666</td>\n",
       "    </tr>\n",
       "    <tr>\n",
       "      <th>1</th>\n",
       "      <td>Brazil</td>\n",
       "      <td>0.037880</td>\n",
       "      <td>9868.624239</td>\n",
       "      <td>373.828305</td>\n",
       "      <td>6448.825145</td>\n",
       "      <td>3045.970789</td>\n",
       "      <td>39.119161</td>\n",
       "      <td>23096.497056</td>\n",
       "    </tr>\n",
       "    <tr>\n",
       "      <th>2</th>\n",
       "      <td>India</td>\n",
       "      <td>0.024598</td>\n",
       "      <td>809.846161</td>\n",
       "      <td>19.920454</td>\n",
       "      <td>507.299785</td>\n",
       "      <td>282.625921</td>\n",
       "      <td>6.478149</td>\n",
       "      <td>9989.466264</td>\n",
       "    </tr>\n",
       "    <tr>\n",
       "      <th>3</th>\n",
       "      <td>Russia</td>\n",
       "      <td>0.015996</td>\n",
       "      <td>5286.818101</td>\n",
       "      <td>84.570342</td>\n",
       "      <td>3771.088984</td>\n",
       "      <td>1431.158776</td>\n",
       "      <td>15.760151</td>\n",
       "      <td>171249.392018</td>\n",
       "    </tr>\n",
       "    <tr>\n",
       "      <th>4</th>\n",
       "      <td>South Africa</td>\n",
       "      <td>0.013814</td>\n",
       "      <td>6139.385078</td>\n",
       "      <td>84.812381</td>\n",
       "      <td>3219.584478</td>\n",
       "      <td>2834.988220</td>\n",
       "      <td>9.082828</td>\n",
       "      <td>41652.046094</td>\n",
       "    </tr>\n",
       "  </tbody>\n",
       "</table>\n",
       "</div>"
      ],
      "text/plain": [
       "        Country  Mortality_rate  Cases_per_ml  Deaths_per_ml  \\\n",
       "0           USA        0.036791  11760.730086     432.691202   \n",
       "1        Brazil        0.037880   9868.624239     373.828305   \n",
       "2         India        0.024598    809.846161      19.920454   \n",
       "3        Russia        0.015996   5286.818101      84.570342   \n",
       "4  South Africa        0.013814   6139.385078      84.812381   \n",
       "\n",
       "   Recovered_per_ml  Active_per_ml  Critical_per_ml   Tests_per_ml  \n",
       "0       5442.836898    5885.201986        50.184605  145951.490666  \n",
       "1       6448.825145    3045.970789        39.119161   23096.497056  \n",
       "2        507.299785     282.625921         6.478149    9989.466264  \n",
       "3       3771.088984    1431.158776        15.760151  171249.392018  \n",
       "4       3219.584478    2834.988220         9.082828   41652.046094  "
      ]
     },
     "execution_count": 17,
     "metadata": {},
     "output_type": "execute_result"
    }
   ],
   "source": [
    "df_final.head()"
   ]
  },
  {
   "cell_type": "code",
   "execution_count": 18,
   "metadata": {},
   "outputs": [
    {
     "data": {
      "text/html": [
       "<div>\n",
       "<style scoped>\n",
       "    .dataframe tbody tr th:only-of-type {\n",
       "        vertical-align: middle;\n",
       "    }\n",
       "\n",
       "    .dataframe tbody tr th {\n",
       "        vertical-align: top;\n",
       "    }\n",
       "\n",
       "    .dataframe thead th {\n",
       "        text-align: right;\n",
       "    }\n",
       "</style>\n",
       "<table border=\"1\" class=\"dataframe\">\n",
       "  <thead>\n",
       "    <tr style=\"text-align: right;\">\n",
       "      <th></th>\n",
       "      <th>Mortality_rate</th>\n",
       "      <th>Cases_per_ml</th>\n",
       "      <th>Deaths_per_ml</th>\n",
       "      <th>Recovered_per_ml</th>\n",
       "      <th>Active_per_ml</th>\n",
       "      <th>Critical_per_ml</th>\n",
       "      <th>Tests_per_ml</th>\n",
       "    </tr>\n",
       "  </thead>\n",
       "  <tbody>\n",
       "    <tr>\n",
       "      <th>0</th>\n",
       "      <td>0.036791</td>\n",
       "      <td>11760.730086</td>\n",
       "      <td>432.691202</td>\n",
       "      <td>5442.836898</td>\n",
       "      <td>5885.201986</td>\n",
       "      <td>50.184605</td>\n",
       "      <td>145951.490666</td>\n",
       "    </tr>\n",
       "    <tr>\n",
       "      <th>1</th>\n",
       "      <td>0.037880</td>\n",
       "      <td>9868.624239</td>\n",
       "      <td>373.828305</td>\n",
       "      <td>6448.825145</td>\n",
       "      <td>3045.970789</td>\n",
       "      <td>39.119161</td>\n",
       "      <td>23096.497056</td>\n",
       "    </tr>\n",
       "    <tr>\n",
       "      <th>2</th>\n",
       "      <td>0.024598</td>\n",
       "      <td>809.846161</td>\n",
       "      <td>19.920454</td>\n",
       "      <td>507.299785</td>\n",
       "      <td>282.625921</td>\n",
       "      <td>6.478149</td>\n",
       "      <td>9989.466264</td>\n",
       "    </tr>\n",
       "    <tr>\n",
       "      <th>3</th>\n",
       "      <td>0.015996</td>\n",
       "      <td>5286.818101</td>\n",
       "      <td>84.570342</td>\n",
       "      <td>3771.088984</td>\n",
       "      <td>1431.158776</td>\n",
       "      <td>15.760151</td>\n",
       "      <td>171249.392018</td>\n",
       "    </tr>\n",
       "    <tr>\n",
       "      <th>4</th>\n",
       "      <td>0.013814</td>\n",
       "      <td>6139.385078</td>\n",
       "      <td>84.812381</td>\n",
       "      <td>3219.584478</td>\n",
       "      <td>2834.988220</td>\n",
       "      <td>9.082828</td>\n",
       "      <td>41652.046094</td>\n",
       "    </tr>\n",
       "  </tbody>\n",
       "</table>\n",
       "</div>"
      ],
      "text/plain": [
       "   Mortality_rate  Cases_per_ml  Deaths_per_ml  Recovered_per_ml  \\\n",
       "0        0.036791  11760.730086     432.691202       5442.836898   \n",
       "1        0.037880   9868.624239     373.828305       6448.825145   \n",
       "2        0.024598    809.846161      19.920454        507.299785   \n",
       "3        0.015996   5286.818101      84.570342       3771.088984   \n",
       "4        0.013814   6139.385078      84.812381       3219.584478   \n",
       "\n",
       "   Active_per_ml  Critical_per_ml   Tests_per_ml  \n",
       "0    5885.201986        50.184605  145951.490666  \n",
       "1    3045.970789        39.119161   23096.497056  \n",
       "2     282.625921         6.478149    9989.466264  \n",
       "3    1431.158776        15.760151  171249.392018  \n",
       "4    2834.988220         9.082828   41652.046094  "
      ]
     },
     "execution_count": 18,
     "metadata": {},
     "output_type": "execute_result"
    }
   ],
   "source": [
    "# 2j - Dropping \"country\"\n",
    "df_temp = df_final.drop(columns=['Country'], axis=0)\n",
    "\n",
    "df_temp.head()"
   ]
  },
  {
   "cell_type": "code",
   "execution_count": 19,
   "metadata": {},
   "outputs": [
    {
     "data": {
      "text/html": [
       "<div>\n",
       "<style scoped>\n",
       "    .dataframe tbody tr th:only-of-type {\n",
       "        vertical-align: middle;\n",
       "    }\n",
       "\n",
       "    .dataframe tbody tr th {\n",
       "        vertical-align: top;\n",
       "    }\n",
       "\n",
       "    .dataframe thead th {\n",
       "        text-align: right;\n",
       "    }\n",
       "</style>\n",
       "<table border=\"1\" class=\"dataframe\">\n",
       "  <thead>\n",
       "    <tr style=\"text-align: right;\">\n",
       "      <th></th>\n",
       "      <th>Mortality_rate</th>\n",
       "      <th>Cases_per_ml</th>\n",
       "      <th>Deaths_per_ml</th>\n",
       "      <th>Recovered_per_ml</th>\n",
       "      <th>Active_per_ml</th>\n",
       "      <th>Critical_per_ml</th>\n",
       "      <th>Tests_per_ml</th>\n",
       "    </tr>\n",
       "  </thead>\n",
       "  <tbody>\n",
       "    <tr>\n",
       "      <th>0</th>\n",
       "      <td>0.140172</td>\n",
       "      <td>1.961777</td>\n",
       "      <td>2.138489</td>\n",
       "      <td>0.880126</td>\n",
       "      <td>4.299014</td>\n",
       "      <td>2.794194</td>\n",
       "      <td>0.667439</td>\n",
       "    </tr>\n",
       "    <tr>\n",
       "      <th>1</th>\n",
       "      <td>0.169068</td>\n",
       "      <td>1.551085</td>\n",
       "      <td>1.778281</td>\n",
       "      <td>1.133636</td>\n",
       "      <td>1.952318</td>\n",
       "      <td>2.076678</td>\n",
       "      <td>-0.359577</td>\n",
       "    </tr>\n",
       "    <tr>\n",
       "      <th>2</th>\n",
       "      <td>-0.183282</td>\n",
       "      <td>-0.415172</td>\n",
       "      <td>-0.387439</td>\n",
       "      <td>-0.363635</td>\n",
       "      <td>-0.331656</td>\n",
       "      <td>-0.039862</td>\n",
       "      <td>-0.469146</td>\n",
       "    </tr>\n",
       "    <tr>\n",
       "      <th>3</th>\n",
       "      <td>-0.411452</td>\n",
       "      <td>0.556579</td>\n",
       "      <td>0.008182</td>\n",
       "      <td>0.458843</td>\n",
       "      <td>0.617635</td>\n",
       "      <td>0.562011</td>\n",
       "      <td>0.878918</td>\n",
       "    </tr>\n",
       "    <tr>\n",
       "      <th>4</th>\n",
       "      <td>-0.469333</td>\n",
       "      <td>0.741634</td>\n",
       "      <td>0.009664</td>\n",
       "      <td>0.319864</td>\n",
       "      <td>1.777936</td>\n",
       "      <td>0.129033</td>\n",
       "      <td>-0.204460</td>\n",
       "    </tr>\n",
       "  </tbody>\n",
       "</table>\n",
       "</div>"
      ],
      "text/plain": [
       "   Mortality_rate  Cases_per_ml  Deaths_per_ml  Recovered_per_ml  \\\n",
       "0        0.140172      1.961777       2.138489          0.880126   \n",
       "1        0.169068      1.551085       1.778281          1.133636   \n",
       "2       -0.183282     -0.415172      -0.387439         -0.363635   \n",
       "3       -0.411452      0.556579       0.008182          0.458843   \n",
       "4       -0.469333      0.741634       0.009664          0.319864   \n",
       "\n",
       "   Active_per_ml  Critical_per_ml  Tests_per_ml  \n",
       "0       4.299014         2.794194      0.667439  \n",
       "1       1.952318         2.076678     -0.359577  \n",
       "2      -0.331656        -0.039862     -0.469146  \n",
       "3       0.617635         0.562011      0.878918  \n",
       "4       1.777936         0.129033     -0.204460  "
      ]
     },
     "execution_count": 19,
     "metadata": {},
     "output_type": "execute_result"
    }
   ],
   "source": [
    "# 2k - Scalling all numeric columns\n",
    "from sklearn.preprocessing import StandardScaler\n",
    "\n",
    "scalerRates = StandardScaler()\n",
    "columns_scale = ['Mortality_rate', 'Cases_per_ml', 'Deaths_per_ml', 'Recovered_per_ml', \n",
    "                 'Active_per_ml', 'Critical_per_ml', 'Tests_per_ml']\n",
    "\n",
    "features = df_temp[columns_scale]\n",
    "features = scalerRates.fit_transform(features.values)\n",
    "df_temp[columns_scale] = features\n",
    "\n",
    "df_temp.head()"
   ]
  },
  {
   "cell_type": "code",
   "execution_count": 20,
   "metadata": {},
   "outputs": [
    {
     "data": {
      "text/html": [
       "<div>\n",
       "<style scoped>\n",
       "    .dataframe tbody tr th:only-of-type {\n",
       "        vertical-align: middle;\n",
       "    }\n",
       "\n",
       "    .dataframe tbody tr th {\n",
       "        vertical-align: top;\n",
       "    }\n",
       "\n",
       "    .dataframe thead th {\n",
       "        text-align: right;\n",
       "    }\n",
       "</style>\n",
       "<table border=\"1\" class=\"dataframe\">\n",
       "  <thead>\n",
       "    <tr style=\"text-align: right;\">\n",
       "      <th></th>\n",
       "      <th>Country</th>\n",
       "      <th>Mortality_rate</th>\n",
       "      <th>Cases_per_ml</th>\n",
       "      <th>Deaths_per_ml</th>\n",
       "      <th>Recovered_per_ml</th>\n",
       "      <th>Active_per_ml</th>\n",
       "      <th>Critical_per_ml</th>\n",
       "      <th>Tests_per_ml</th>\n",
       "    </tr>\n",
       "  </thead>\n",
       "  <tbody>\n",
       "    <tr>\n",
       "      <th>0</th>\n",
       "      <td>USA</td>\n",
       "      <td>0.140172</td>\n",
       "      <td>1.961777</td>\n",
       "      <td>2.138489</td>\n",
       "      <td>0.880126</td>\n",
       "      <td>4.299014</td>\n",
       "      <td>2.794194</td>\n",
       "      <td>0.667439</td>\n",
       "    </tr>\n",
       "    <tr>\n",
       "      <th>1</th>\n",
       "      <td>Brazil</td>\n",
       "      <td>0.169068</td>\n",
       "      <td>1.551085</td>\n",
       "      <td>1.778281</td>\n",
       "      <td>1.133636</td>\n",
       "      <td>1.952318</td>\n",
       "      <td>2.076678</td>\n",
       "      <td>-0.359577</td>\n",
       "    </tr>\n",
       "    <tr>\n",
       "      <th>2</th>\n",
       "      <td>India</td>\n",
       "      <td>-0.183282</td>\n",
       "      <td>-0.415172</td>\n",
       "      <td>-0.387439</td>\n",
       "      <td>-0.363635</td>\n",
       "      <td>-0.331656</td>\n",
       "      <td>-0.039862</td>\n",
       "      <td>-0.469146</td>\n",
       "    </tr>\n",
       "    <tr>\n",
       "      <th>3</th>\n",
       "      <td>Russia</td>\n",
       "      <td>-0.411452</td>\n",
       "      <td>0.556579</td>\n",
       "      <td>0.008182</td>\n",
       "      <td>0.458843</td>\n",
       "      <td>0.617635</td>\n",
       "      <td>0.562011</td>\n",
       "      <td>0.878918</td>\n",
       "    </tr>\n",
       "    <tr>\n",
       "      <th>4</th>\n",
       "      <td>South Africa</td>\n",
       "      <td>-0.469333</td>\n",
       "      <td>0.741634</td>\n",
       "      <td>0.009664</td>\n",
       "      <td>0.319864</td>\n",
       "      <td>1.777936</td>\n",
       "      <td>0.129033</td>\n",
       "      <td>-0.204460</td>\n",
       "    </tr>\n",
       "  </tbody>\n",
       "</table>\n",
       "</div>"
      ],
      "text/plain": [
       "        Country  Mortality_rate  Cases_per_ml  Deaths_per_ml  \\\n",
       "0           USA        0.140172      1.961777       2.138489   \n",
       "1        Brazil        0.169068      1.551085       1.778281   \n",
       "2         India       -0.183282     -0.415172      -0.387439   \n",
       "3        Russia       -0.411452      0.556579       0.008182   \n",
       "4  South Africa       -0.469333      0.741634       0.009664   \n",
       "\n",
       "   Recovered_per_ml  Active_per_ml  Critical_per_ml  Tests_per_ml  \n",
       "0          0.880126       4.299014         2.794194      0.667439  \n",
       "1          1.133636       1.952318         2.076678     -0.359577  \n",
       "2         -0.363635      -0.331656        -0.039862     -0.469146  \n",
       "3          0.458843       0.617635         0.562011      0.878918  \n",
       "4          0.319864       1.777936         0.129033     -0.204460  "
      ]
     },
     "execution_count": 20,
     "metadata": {},
     "output_type": "execute_result"
    }
   ],
   "source": [
    "df_final[columns_scale] = df_temp[columns_scale]\n",
    "df_final.head()"
   ]
  },
  {
   "cell_type": "markdown",
   "metadata": {},
   "source": [
    "## Step 3 - Determining the Optimal Number of Clusters with Scipy.cluster.hierarchy"
   ]
  },
  {
   "cell_type": "code",
   "execution_count": 21,
   "metadata": {},
   "outputs": [],
   "source": [
    "import scipy.cluster.hierarchy as shc\n",
    "import matplotlib.pyplot as plt\n",
    "\n",
    "#Define function to show dendogram\n",
    "def create_dendogram(data):\n",
    "    plt.figure(figsize=(15, 10))\n",
    "    plt.title(\"World Covid-19 Cases Dendogram\")\n",
    "    dend = shc.dendrogram(shc.linkage(data, method='ward'))"
   ]
  },
  {
   "cell_type": "code",
   "execution_count": 22,
   "metadata": {
    "scrolled": false
   },
   "outputs": [
    {
     "data": {
      "image/png": "[encoded data removed]",
      "text/plain": [
       "<Figure size 1080x720 with 1 Axes>"
      ]
     },
     "metadata": {
      "needs_background": "light"
     },
     "output_type": "display_data"
    }
   ],
   "source": [
    "create_dendogram(df_final.drop(columns='Country', axis=0))"
   ]
  },
  {
   "cell_type": "code",
   "execution_count": 23,
   "metadata": {},
   "outputs": [],
   "source": [
    "clusters_optimal = 3"
   ]
  },
  {
   "cell_type": "markdown",
   "metadata": {},
   "source": [
    "Regarding to this technique, we can imply that there are 4 clusters due to 4 differente colours."
   ]
  },
  {
   "cell_type": "markdown",
   "metadata": {},
   "source": [
    "## Step 4 - Determining the Optimal Number of Clusters with Elbow Method"
   ]
  },
  {
   "cell_type": "code",
   "execution_count": 24,
   "metadata": {},
   "outputs": [],
   "source": [
    "from sklearn.cluster import KMeans\n",
    "\n",
    "# function to compute Withinness Sum of Squares (wss)\n",
    "def calculate_wss(data):\n",
    "    wss = []\n",
    "    for n in range(2, 30):\n",
    "        kmeans = KMeans(n_clusters=n, random_state=random_state)\n",
    "        kmeans.fit(X=data)\n",
    "        wss.append(kmeans.inertia_)\n",
    "    \n",
    "    return wss"
   ]
  },
  {
   "cell_type": "code",
   "execution_count": 25,
   "metadata": {},
   "outputs": [
    {
     "data": {
      "image/png": "[encoded data removed]",
      "text/plain": [
       "<Figure size 1080x720 with 1 Axes>"
      ]
     },
     "metadata": {
      "needs_background": "light"
     },
     "output_type": "display_data"
    }
   ],
   "source": [
    "#call the function to compute wss\n",
    "wss = calculate_wss(df_final.drop(columns='Country', axis=0))\n",
    "\n",
    "#plot the scree plot\n",
    "plt.figure(figsize=(15, 10))\n",
    "plt.plot(range(2,30), wss, '-rx')\n",
    "plt.xlabel('Number of clusters (k)')\n",
    "plt.ylabel('Sum of Squared Distances')\n",
    "plt.title('Elbow Method For Optimal k')\n",
    "plt.show()"
   ]
  },
  {
   "cell_type": "markdown",
   "metadata": {},
   "source": [
    "As we can see in the graph above, the determinaation of the number of clusters is inconclusive."
   ]
  },
  {
   "cell_type": "markdown",
   "metadata": {},
   "source": [
    "## Step 5 - Analysing the K-Means and Agglomerative Clustering Models"
   ]
  },
  {
   "cell_type": "markdown",
   "metadata": {},
   "source": [
    "### 5.1 - K-Means Model"
   ]
  },
  {
   "cell_type": "code",
   "execution_count": 26,
   "metadata": {},
   "outputs": [],
   "source": [
    "# running kmeans using the 'clusters_optimal'\n",
    "kmeans = KMeans(n_clusters=clusters_optimal, random_state=random_state)\n",
    "\n",
    "clusters_km = kmeans.fit_predict(df_final.drop(columns='Country', axis=0))"
   ]
  },
  {
   "cell_type": "markdown",
   "metadata": {},
   "source": [
    "### 5.2 - Agglomerative Clustering Model"
   ]
  },
  {
   "cell_type": "code",
   "execution_count": 27,
   "metadata": {},
   "outputs": [],
   "source": [
    "from sklearn.cluster import AgglomerativeClustering\n",
    "\n",
    "agglom = AgglomerativeClustering(n_clusters=4, affinity='euclidean', linkage='ward')\n",
    "\n",
    "# fit and generate cluster\n",
    "clusters_ag = agglom.fit_predict(df_final.drop(columns='Country', axis=0))"
   ]
  },
  {
   "cell_type": "markdown",
   "metadata": {},
   "source": [
    "## Step 6 - Evaluating the Cluster Performance"
   ]
  },
  {
   "cell_type": "code",
   "execution_count": 28,
   "metadata": {},
   "outputs": [],
   "source": [
    "# import metrics libraries\n",
    "from sklearn.metrics import silhouette_score, calinski_harabasz_score, davies_bouldin_score"
   ]
  },
  {
   "cell_type": "markdown",
   "metadata": {},
   "source": [
    "\n",
    "- **higher** Silhouette Coefficient score relates to a model with **better** defined clusters\n",
    "- **higher** Calinski-Harabasz score relates to a model with **better** defined clusters.\n",
    "- **lower** Davies-Bouldin score index relates to a model with **better** separation between the clusters."
   ]
  },
  {
   "cell_type": "markdown",
   "metadata": {},
   "source": [
    "### 6.1 - Silhouette Score Metric"
   ]
  },
  {
   "cell_type": "code",
   "execution_count": 29,
   "metadata": {},
   "outputs": [],
   "source": [
    "# K-Means\n",
    "si_kmeans = silhouette_score(df_final.drop(columns=\"Country\", axis=0), clusters_km, metric='euclidean')"
   ]
  },
  {
   "cell_type": "code",
   "execution_count": 30,
   "metadata": {},
   "outputs": [],
   "source": [
    "# Agglomerative Clustering\n",
    "si_agglom = silhouette_score(df_final.drop(columns=\"Country\", axis=0), clusters_ag, metric='euclidean')"
   ]
  },
  {
   "cell_type": "markdown",
   "metadata": {},
   "source": [
    "### 6.2 - Calinski Harabasz Score Metric"
   ]
  },
  {
   "cell_type": "code",
   "execution_count": 31,
   "metadata": {},
   "outputs": [],
   "source": [
    "# K-means\n",
    "ch_kmeans = calinski_harabasz_score(df_final.drop(columns=\"Country\", axis=0), clusters_km)"
   ]
  },
  {
   "cell_type": "code",
   "execution_count": 32,
   "metadata": {},
   "outputs": [],
   "source": [
    "# Agglomerative Clustering\n",
    "ch_agglom = calinski_harabasz_score(df_final.drop(columns=\"Country\", axis=0), clusters_ag)"
   ]
  },
  {
   "cell_type": "markdown",
   "metadata": {},
   "source": [
    "### 6.3 - Davies Bouldin Score Metric"
   ]
  },
  {
   "cell_type": "code",
   "execution_count": 33,
   "metadata": {},
   "outputs": [],
   "source": [
    "# K-means\n",
    "db_kmeans = davies_bouldin_score(df_final.drop(columns=\"Country\", axis=0), clusters_km)"
   ]
  },
  {
   "cell_type": "code",
   "execution_count": 34,
   "metadata": {},
   "outputs": [],
   "source": [
    "# Agglomerative Clustering\n",
    "db_agglom = davies_bouldin_score(df_final.drop(columns=\"Country\", axis=0), clusters_ag)"
   ]
  },
  {
   "cell_type": "markdown",
   "metadata": {},
   "source": [
    "## 7 - Selectioning the Best Technique"
   ]
  },
  {
   "cell_type": "code",
   "execution_count": 35,
   "metadata": {},
   "outputs": [
    {
     "name": "stdout",
     "output_type": "stream",
     "text": [
      "** Higher is better **\n",
      "Silhouette Score - K-means      :  0.5667950628148332\n",
      "Silhouette Score - Agglomerative:  0.5560941548304682\n",
      "\n",
      "** Higher is better **\n",
      "Calinski Harabaz - K-means      :  72.7305111250323\n",
      "Calinski Harabaz - Agglomerative:  68.74123575881453\n",
      "\n",
      "** Lower is better **\n",
      "Davies Bouldin   - K-means      :  1.103474867271945\n",
      "Davies Bouldin   - Agglomerative:  0.9951596861914074\n"
     ]
    }
   ],
   "source": [
    "print(\"** Higher is better **\")\n",
    "print(\"Silhouette Score - K-means      : \", si_kmeans)\n",
    "print(\"Silhouette Score - Agglomerative: \", si_agglom)\n",
    "print(\"\\n** Higher is better **\")\n",
    "print(\"Calinski Harabaz - K-means      : \", ch_kmeans)\n",
    "print(\"Calinski Harabaz - Agglomerative: \", ch_agglom)\n",
    "print(\"\\n** Lower is better **\")\n",
    "print(\"Davies Bouldin   - K-means      : \", db_kmeans)\n",
    "print(\"Davies Bouldin   - Agglomerative: \", db_agglom)"
   ]
  },
  {
   "cell_type": "markdown",
   "metadata": {},
   "source": [
    "From the cluster results above, we can see that **K-Means** is the best because it won in two metrics. Therefore, it will be used to examine in details if there is a hidden pattern in the dataset."
   ]
  },
  {
   "cell_type": "markdown",
   "metadata": {},
   "source": [
    "## 8 - Determing the Class for each Country"
   ]
  },
  {
   "cell_type": "code",
   "execution_count": 36,
   "metadata": {},
   "outputs": [
    {
     "data": {
      "text/html": [
       "<div>\n",
       "<style scoped>\n",
       "    .dataframe tbody tr th:only-of-type {\n",
       "        vertical-align: middle;\n",
       "    }\n",
       "\n",
       "    .dataframe tbody tr th {\n",
       "        vertical-align: top;\n",
       "    }\n",
       "\n",
       "    .dataframe thead th {\n",
       "        text-align: right;\n",
       "    }\n",
       "</style>\n",
       "<table border=\"1\" class=\"dataframe\">\n",
       "  <thead>\n",
       "    <tr style=\"text-align: right;\">\n",
       "      <th></th>\n",
       "      <th>Country</th>\n",
       "      <th>Mortality_rate</th>\n",
       "      <th>Cases_per_ml</th>\n",
       "      <th>Deaths_per_ml</th>\n",
       "      <th>Recovered_per_ml</th>\n",
       "      <th>Active_per_ml</th>\n",
       "      <th>Critical_per_ml</th>\n",
       "      <th>Tests_per_ml</th>\n",
       "    </tr>\n",
       "  </thead>\n",
       "  <tbody>\n",
       "    <tr>\n",
       "      <th>0</th>\n",
       "      <td>USA</td>\n",
       "      <td>0.140172</td>\n",
       "      <td>1.961777</td>\n",
       "      <td>2.138489</td>\n",
       "      <td>0.880126</td>\n",
       "      <td>4.299014</td>\n",
       "      <td>2.794194</td>\n",
       "      <td>0.667439</td>\n",
       "    </tr>\n",
       "    <tr>\n",
       "      <th>1</th>\n",
       "      <td>Brazil</td>\n",
       "      <td>0.169068</td>\n",
       "      <td>1.551085</td>\n",
       "      <td>1.778281</td>\n",
       "      <td>1.133636</td>\n",
       "      <td>1.952318</td>\n",
       "      <td>2.076678</td>\n",
       "      <td>-0.359577</td>\n",
       "    </tr>\n",
       "    <tr>\n",
       "      <th>2</th>\n",
       "      <td>India</td>\n",
       "      <td>-0.183282</td>\n",
       "      <td>-0.415172</td>\n",
       "      <td>-0.387439</td>\n",
       "      <td>-0.363635</td>\n",
       "      <td>-0.331656</td>\n",
       "      <td>-0.039862</td>\n",
       "      <td>-0.469146</td>\n",
       "    </tr>\n",
       "    <tr>\n",
       "      <th>3</th>\n",
       "      <td>Russia</td>\n",
       "      <td>-0.411452</td>\n",
       "      <td>0.556579</td>\n",
       "      <td>0.008182</td>\n",
       "      <td>0.458843</td>\n",
       "      <td>0.617635</td>\n",
       "      <td>0.562011</td>\n",
       "      <td>0.878918</td>\n",
       "    </tr>\n",
       "    <tr>\n",
       "      <th>4</th>\n",
       "      <td>South Africa</td>\n",
       "      <td>-0.469333</td>\n",
       "      <td>0.741634</td>\n",
       "      <td>0.009664</td>\n",
       "      <td>0.319864</td>\n",
       "      <td>1.777936</td>\n",
       "      <td>0.129033</td>\n",
       "      <td>-0.204460</td>\n",
       "    </tr>\n",
       "  </tbody>\n",
       "</table>\n",
       "</div>"
      ],
      "text/plain": [
       "        Country  Mortality_rate  Cases_per_ml  Deaths_per_ml  \\\n",
       "0           USA        0.140172      1.961777       2.138489   \n",
       "1        Brazil        0.169068      1.551085       1.778281   \n",
       "2         India       -0.183282     -0.415172      -0.387439   \n",
       "3        Russia       -0.411452      0.556579       0.008182   \n",
       "4  South Africa       -0.469333      0.741634       0.009664   \n",
       "\n",
       "   Recovered_per_ml  Active_per_ml  Critical_per_ml  Tests_per_ml  \n",
       "0          0.880126       4.299014         2.794194      0.667439  \n",
       "1          1.133636       1.952318         2.076678     -0.359577  \n",
       "2         -0.363635      -0.331656        -0.039862     -0.469146  \n",
       "3          0.458843       0.617635         0.562011      0.878918  \n",
       "4          0.319864       1.777936         0.129033     -0.204460  "
      ]
     },
     "execution_count": 36,
     "metadata": {},
     "output_type": "execute_result"
    }
   ],
   "source": [
    "df_final.head()"
   ]
  },
  {
   "cell_type": "code",
   "execution_count": 37,
   "metadata": {},
   "outputs": [],
   "source": [
    "df_final['Cluster Membership'] = clusters_km"
   ]
  },
  {
   "cell_type": "code",
   "execution_count": 38,
   "metadata": {},
   "outputs": [
    {
     "data": {
      "text/html": [
       "<div>\n",
       "<style scoped>\n",
       "    .dataframe tbody tr th:only-of-type {\n",
       "        vertical-align: middle;\n",
       "    }\n",
       "\n",
       "    .dataframe tbody tr th {\n",
       "        vertical-align: top;\n",
       "    }\n",
       "\n",
       "    .dataframe thead th {\n",
       "        text-align: right;\n",
       "    }\n",
       "</style>\n",
       "<table border=\"1\" class=\"dataframe\">\n",
       "  <thead>\n",
       "    <tr style=\"text-align: right;\">\n",
       "      <th></th>\n",
       "      <th>Country</th>\n",
       "      <th>Mortality_rate</th>\n",
       "      <th>Cases_per_ml</th>\n",
       "      <th>Deaths_per_ml</th>\n",
       "      <th>Recovered_per_ml</th>\n",
       "      <th>Active_per_ml</th>\n",
       "      <th>Critical_per_ml</th>\n",
       "      <th>Tests_per_ml</th>\n",
       "      <th>Cluster Membership</th>\n",
       "    </tr>\n",
       "  </thead>\n",
       "  <tbody>\n",
       "    <tr>\n",
       "      <th>0</th>\n",
       "      <td>USA</td>\n",
       "      <td>0.140172</td>\n",
       "      <td>1.961777</td>\n",
       "      <td>2.138489</td>\n",
       "      <td>0.880126</td>\n",
       "      <td>4.299014</td>\n",
       "      <td>2.794194</td>\n",
       "      <td>0.667439</td>\n",
       "      <td>2</td>\n",
       "    </tr>\n",
       "    <tr>\n",
       "      <th>1</th>\n",
       "      <td>Brazil</td>\n",
       "      <td>0.169068</td>\n",
       "      <td>1.551085</td>\n",
       "      <td>1.778281</td>\n",
       "      <td>1.133636</td>\n",
       "      <td>1.952318</td>\n",
       "      <td>2.076678</td>\n",
       "      <td>-0.359577</td>\n",
       "      <td>2</td>\n",
       "    </tr>\n",
       "    <tr>\n",
       "      <th>2</th>\n",
       "      <td>India</td>\n",
       "      <td>-0.183282</td>\n",
       "      <td>-0.415172</td>\n",
       "      <td>-0.387439</td>\n",
       "      <td>-0.363635</td>\n",
       "      <td>-0.331656</td>\n",
       "      <td>-0.039862</td>\n",
       "      <td>-0.469146</td>\n",
       "      <td>0</td>\n",
       "    </tr>\n",
       "    <tr>\n",
       "      <th>3</th>\n",
       "      <td>Russia</td>\n",
       "      <td>-0.411452</td>\n",
       "      <td>0.556579</td>\n",
       "      <td>0.008182</td>\n",
       "      <td>0.458843</td>\n",
       "      <td>0.617635</td>\n",
       "      <td>0.562011</td>\n",
       "      <td>0.878918</td>\n",
       "      <td>0</td>\n",
       "    </tr>\n",
       "    <tr>\n",
       "      <th>4</th>\n",
       "      <td>South Africa</td>\n",
       "      <td>-0.469333</td>\n",
       "      <td>0.741634</td>\n",
       "      <td>0.009664</td>\n",
       "      <td>0.319864</td>\n",
       "      <td>1.777936</td>\n",
       "      <td>0.129033</td>\n",
       "      <td>-0.204460</td>\n",
       "      <td>0</td>\n",
       "    </tr>\n",
       "  </tbody>\n",
       "</table>\n",
       "</div>"
      ],
      "text/plain": [
       "        Country  Mortality_rate  Cases_per_ml  Deaths_per_ml  \\\n",
       "0           USA        0.140172      1.961777       2.138489   \n",
       "1        Brazil        0.169068      1.551085       1.778281   \n",
       "2         India       -0.183282     -0.415172      -0.387439   \n",
       "3        Russia       -0.411452      0.556579       0.008182   \n",
       "4  South Africa       -0.469333      0.741634       0.009664   \n",
       "\n",
       "   Recovered_per_ml  Active_per_ml  Critical_per_ml  Tests_per_ml  \\\n",
       "0          0.880126       4.299014         2.794194      0.667439   \n",
       "1          1.133636       1.952318         2.076678     -0.359577   \n",
       "2         -0.363635      -0.331656        -0.039862     -0.469146   \n",
       "3          0.458843       0.617635         0.562011      0.878918   \n",
       "4          0.319864       1.777936         0.129033     -0.204460   \n",
       "\n",
       "   Cluster Membership  \n",
       "0                   2  \n",
       "1                   2  \n",
       "2                   0  \n",
       "3                   0  \n",
       "4                   0  "
      ]
     },
     "execution_count": 38,
     "metadata": {},
     "output_type": "execute_result"
    }
   ],
   "source": [
    "df_final.head()"
   ]
  },
  {
   "cell_type": "code",
   "execution_count": 39,
   "metadata": {},
   "outputs": [],
   "source": [
    "df_final.to_csv('df_final.csv', index=False)"
   ]
  },
  {
   "cell_type": "markdown",
   "metadata": {},
   "source": [
    "## 9 - Generating the Cluster Centres"
   ]
  },
  {
   "cell_type": "code",
   "execution_count": 40,
   "metadata": {},
   "outputs": [
    {
     "data": {
      "text/html": [
       "<div>\n",
       "<style scoped>\n",
       "    .dataframe tbody tr th:only-of-type {\n",
       "        vertical-align: middle;\n",
       "    }\n",
       "\n",
       "    .dataframe tbody tr th {\n",
       "        vertical-align: top;\n",
       "    }\n",
       "\n",
       "    .dataframe thead th {\n",
       "        text-align: right;\n",
       "    }\n",
       "</style>\n",
       "<table border=\"1\" class=\"dataframe\">\n",
       "  <thead>\n",
       "    <tr style=\"text-align: right;\">\n",
       "      <th></th>\n",
       "      <th>0</th>\n",
       "      <th>1</th>\n",
       "      <th>2</th>\n",
       "      <th>3</th>\n",
       "      <th>4</th>\n",
       "      <th>5</th>\n",
       "      <th>6</th>\n",
       "    </tr>\n",
       "  </thead>\n",
       "  <tbody>\n",
       "    <tr>\n",
       "      <th>0</th>\n",
       "      <td>-0.197354</td>\n",
       "      <td>-0.266391</td>\n",
       "      <td>-0.304662</td>\n",
       "      <td>-0.226624</td>\n",
       "      <td>-0.225670</td>\n",
       "      <td>-0.188543</td>\n",
       "      <td>-0.035712</td>\n",
       "    </tr>\n",
       "    <tr>\n",
       "      <th>1</th>\n",
       "      <td>2.314401</td>\n",
       "      <td>0.589491</td>\n",
       "      <td>2.497214</td>\n",
       "      <td>0.392488</td>\n",
       "      <td>0.572531</td>\n",
       "      <td>-0.231853</td>\n",
       "      <td>0.141225</td>\n",
       "    </tr>\n",
       "    <tr>\n",
       "      <th>2</th>\n",
       "      <td>-0.343620</td>\n",
       "      <td>2.655594</td>\n",
       "      <td>0.793366</td>\n",
       "      <td>2.393324</td>\n",
       "      <td>2.159618</td>\n",
       "      <td>2.678405</td>\n",
       "      <td>0.279447</td>\n",
       "    </tr>\n",
       "  </tbody>\n",
       "</table>\n",
       "</div>"
      ],
      "text/plain": [
       "          0         1         2         3         4         5         6\n",
       "0 -0.197354 -0.266391 -0.304662 -0.226624 -0.225670 -0.188543 -0.035712\n",
       "1  2.314401  0.589491  2.497214  0.392488  0.572531 -0.231853  0.141225\n",
       "2 -0.343620  2.655594  0.793366  2.393324  2.159618  2.678405  0.279447"
      ]
     },
     "execution_count": 40,
     "metadata": {},
     "output_type": "execute_result"
    }
   ],
   "source": [
    "ct_kn = kmeans.cluster_centers_\n",
    "cts = pd.DataFrame(ct_kn)\n",
    "cts.head()"
   ]
  },
  {
   "cell_type": "code",
   "execution_count": 41,
   "metadata": {},
   "outputs": [
    {
     "data": {
      "text/html": [
       "<div>\n",
       "<style scoped>\n",
       "    .dataframe tbody tr th:only-of-type {\n",
       "        vertical-align: middle;\n",
       "    }\n",
       "\n",
       "    .dataframe tbody tr th {\n",
       "        vertical-align: top;\n",
       "    }\n",
       "\n",
       "    .dataframe thead th {\n",
       "        text-align: right;\n",
       "    }\n",
       "</style>\n",
       "<table border=\"1\" class=\"dataframe\">\n",
       "  <thead>\n",
       "    <tr style=\"text-align: right;\">\n",
       "      <th></th>\n",
       "      <th>Mortality Rate</th>\n",
       "      <th>Cases per M</th>\n",
       "      <th>Deaths per M</th>\n",
       "      <th>Recovered per M</th>\n",
       "      <th>Active per M</th>\n",
       "      <th>Critical per M</th>\n",
       "      <th>Tests per M</th>\n",
       "    </tr>\n",
       "  </thead>\n",
       "  <tbody>\n",
       "    <tr>\n",
       "      <th>0</th>\n",
       "      <td>0.024067</td>\n",
       "      <td>1495.294805</td>\n",
       "      <td>33.447384</td>\n",
       "      <td>1050.990846</td>\n",
       "      <td>410.856575</td>\n",
       "      <td>4.185205</td>\n",
       "      <td>61838.311121</td>\n",
       "    </tr>\n",
       "    <tr>\n",
       "      <th>1</th>\n",
       "      <td>0.118754</td>\n",
       "      <td>5438.444573</td>\n",
       "      <td>491.311703</td>\n",
       "      <td>3507.774363</td>\n",
       "      <td>1376.588100</td>\n",
       "      <td>3.517287</td>\n",
       "      <td>83004.076315</td>\n",
       "    </tr>\n",
       "    <tr>\n",
       "      <th>2</th>\n",
       "      <td>0.018554</td>\n",
       "      <td>14957.227161</td>\n",
       "      <td>212.880016</td>\n",
       "      <td>11447.566664</td>\n",
       "      <td>3296.780482</td>\n",
       "      <td>48.398924</td>\n",
       "      <td>99538.690852</td>\n",
       "    </tr>\n",
       "  </tbody>\n",
       "</table>\n",
       "</div>"
      ],
      "text/plain": [
       "   Mortality Rate   Cases per M  Deaths per M  Recovered per M  Active per M  \\\n",
       "0        0.024067   1495.294805     33.447384      1050.990846    410.856575   \n",
       "1        0.118754   5438.444573    491.311703      3507.774363   1376.588100   \n",
       "2        0.018554  14957.227161    212.880016     11447.566664   3296.780482   \n",
       "\n",
       "   Critical per M   Tests per M  \n",
       "0        4.185205  61838.311121  \n",
       "1        3.517287  83004.076315  \n",
       "2       48.398924  99538.690852  "
      ]
     },
     "execution_count": 41,
     "metadata": {},
     "output_type": "execute_result"
    }
   ],
   "source": [
    "# getting the centers using unscaled data (inverse_transformation)\n",
    "cts_rates = scalerRates.inverse_transform(cts)\n",
    "\n",
    "centers = pd.DataFrame(cts_rates, columns=['Mortality Rate', 'Cases per M', 'Deaths per M', 'Recovered per M', \n",
    "                                           'Active per M', 'Critical per M', 'Tests per M'])\n",
    "centers"
   ]
  },
  {
   "cell_type": "code",
   "execution_count": 42,
   "metadata": {},
   "outputs": [],
   "source": [
    "centers.to_csv('centers.csv', index_label='Class')"
   ]
  },
  {
   "cell_type": "code",
   "execution_count": 43,
   "metadata": {},
   "outputs": [
    {
     "data": {
      "text/html": [
       "<div>\n",
       "<style scoped>\n",
       "    .dataframe tbody tr th:only-of-type {\n",
       "        vertical-align: middle;\n",
       "    }\n",
       "\n",
       "    .dataframe tbody tr th {\n",
       "        vertical-align: top;\n",
       "    }\n",
       "\n",
       "    .dataframe thead th {\n",
       "        text-align: right;\n",
       "    }\n",
       "</style>\n",
       "<table border=\"1\" class=\"dataframe\">\n",
       "  <thead>\n",
       "    <tr style=\"text-align: right;\">\n",
       "      <th></th>\n",
       "      <th>Total Cases</th>\n",
       "      <th>Total Deaths</th>\n",
       "      <th>Total Recovered</th>\n",
       "      <th>Active Cases</th>\n",
       "      <th>Critical Cases</th>\n",
       "      <th>Total Tests</th>\n",
       "      <th>Population</th>\n",
       "      <th>Country</th>\n",
       "      <th>Pop_ml</th>\n",
       "      <th>Mortality_rate</th>\n",
       "      <th>Cases_per_ml</th>\n",
       "      <th>Deaths_per_ml</th>\n",
       "      <th>Recovered_per_ml</th>\n",
       "      <th>Active_per_ml</th>\n",
       "      <th>Critical_per_ml</th>\n",
       "      <th>Tests_per_ml</th>\n",
       "    </tr>\n",
       "  </thead>\n",
       "  <tbody>\n",
       "    <tr>\n",
       "      <th>0</th>\n",
       "      <td>3893949.0</td>\n",
       "      <td>143263.0</td>\n",
       "      <td>1802110.0</td>\n",
       "      <td>1948576.0</td>\n",
       "      <td>16616.0</td>\n",
       "      <td>48324182.0</td>\n",
       "      <td>3.310976e+08</td>\n",
       "      <td>USA</td>\n",
       "      <td>331.097557</td>\n",
       "      <td>0.036791</td>\n",
       "      <td>11760.730086</td>\n",
       "      <td>432.691202</td>\n",
       "      <td>5442.836898</td>\n",
       "      <td>5885.201986</td>\n",
       "      <td>50.184605</td>\n",
       "      <td>145951.490666</td>\n",
       "    </tr>\n",
       "    <tr>\n",
       "      <th>1</th>\n",
       "      <td>2098389.0</td>\n",
       "      <td>79488.0</td>\n",
       "      <td>1371229.0</td>\n",
       "      <td>647672.0</td>\n",
       "      <td>8318.0</td>\n",
       "      <td>4911063.0</td>\n",
       "      <td>2.126324e+08</td>\n",
       "      <td>Brazil</td>\n",
       "      <td>212.632374</td>\n",
       "      <td>0.037880</td>\n",
       "      <td>9868.624239</td>\n",
       "      <td>373.828305</td>\n",
       "      <td>6448.825145</td>\n",
       "      <td>3045.970789</td>\n",
       "      <td>39.119161</td>\n",
       "      <td>23096.497056</td>\n",
       "    </tr>\n",
       "    <tr>\n",
       "      <th>2</th>\n",
       "      <td>1118107.0</td>\n",
       "      <td>27503.0</td>\n",
       "      <td>700399.0</td>\n",
       "      <td>390205.0</td>\n",
       "      <td>8944.0</td>\n",
       "      <td>13791869.0</td>\n",
       "      <td>1.380641e+09</td>\n",
       "      <td>India</td>\n",
       "      <td>1380.641231</td>\n",
       "      <td>0.024598</td>\n",
       "      <td>809.846161</td>\n",
       "      <td>19.920454</td>\n",
       "      <td>507.299785</td>\n",
       "      <td>282.625921</td>\n",
       "      <td>6.478149</td>\n",
       "      <td>9989.466264</td>\n",
       "    </tr>\n",
       "    <tr>\n",
       "      <th>3</th>\n",
       "      <td>771546.0</td>\n",
       "      <td>12342.0</td>\n",
       "      <td>550344.0</td>\n",
       "      <td>208860.0</td>\n",
       "      <td>2300.0</td>\n",
       "      <td>24991740.0</td>\n",
       "      <td>1.459377e+08</td>\n",
       "      <td>Russia</td>\n",
       "      <td>145.937686</td>\n",
       "      <td>0.015996</td>\n",
       "      <td>5286.818101</td>\n",
       "      <td>84.570342</td>\n",
       "      <td>3771.088984</td>\n",
       "      <td>1431.158776</td>\n",
       "      <td>15.760151</td>\n",
       "      <td>171249.392018</td>\n",
       "    </tr>\n",
       "    <tr>\n",
       "      <th>4</th>\n",
       "      <td>364328.0</td>\n",
       "      <td>5033.0</td>\n",
       "      <td>191059.0</td>\n",
       "      <td>168236.0</td>\n",
       "      <td>539.0</td>\n",
       "      <td>2471747.0</td>\n",
       "      <td>5.934275e+07</td>\n",
       "      <td>South Africa</td>\n",
       "      <td>59.342751</td>\n",
       "      <td>0.013814</td>\n",
       "      <td>6139.385078</td>\n",
       "      <td>84.812381</td>\n",
       "      <td>3219.584478</td>\n",
       "      <td>2834.988220</td>\n",
       "      <td>9.082828</td>\n",
       "      <td>41652.046094</td>\n",
       "    </tr>\n",
       "  </tbody>\n",
       "</table>\n",
       "</div>"
      ],
      "text/plain": [
       "   Total Cases  Total Deaths  Total Recovered  Active Cases  Critical Cases  \\\n",
       "0    3893949.0      143263.0        1802110.0     1948576.0         16616.0   \n",
       "1    2098389.0       79488.0        1371229.0      647672.0          8318.0   \n",
       "2    1118107.0       27503.0         700399.0      390205.0          8944.0   \n",
       "3     771546.0       12342.0         550344.0      208860.0          2300.0   \n",
       "4     364328.0        5033.0         191059.0      168236.0           539.0   \n",
       "\n",
       "   Total Tests    Population       Country       Pop_ml  Mortality_rate  \\\n",
       "0   48324182.0  3.310976e+08           USA   331.097557        0.036791   \n",
       "1    4911063.0  2.126324e+08        Brazil   212.632374        0.037880   \n",
       "2   13791869.0  1.380641e+09         India  1380.641231        0.024598   \n",
       "3   24991740.0  1.459377e+08        Russia   145.937686        0.015996   \n",
       "4    2471747.0  5.934275e+07  South Africa    59.342751        0.013814   \n",
       "\n",
       "   Cases_per_ml  Deaths_per_ml  Recovered_per_ml  Active_per_ml  \\\n",
       "0  11760.730086     432.691202       5442.836898    5885.201986   \n",
       "1   9868.624239     373.828305       6448.825145    3045.970789   \n",
       "2    809.846161      19.920454        507.299785     282.625921   \n",
       "3   5286.818101      84.570342       3771.088984    1431.158776   \n",
       "4   6139.385078      84.812381       3219.584478    2834.988220   \n",
       "\n",
       "   Critical_per_ml   Tests_per_ml  \n",
       "0        50.184605  145951.490666  \n",
       "1        39.119161   23096.497056  \n",
       "2         6.478149    9989.466264  \n",
       "3        15.760151  171249.392018  \n",
       "4         9.082828   41652.046094  "
      ]
     },
     "execution_count": 43,
     "metadata": {},
     "output_type": "execute_result"
    }
   ],
   "source": [
    "# EXTRA - generating a report with original values and cluster membership\n",
    "df_use.head()"
   ]
  },
  {
   "cell_type": "code",
   "execution_count": 44,
   "metadata": {},
   "outputs": [
    {
     "data": {
      "text/html": [
       "<div>\n",
       "<style scoped>\n",
       "    .dataframe tbody tr th:only-of-type {\n",
       "        vertical-align: middle;\n",
       "    }\n",
       "\n",
       "    .dataframe tbody tr th {\n",
       "        vertical-align: top;\n",
       "    }\n",
       "\n",
       "    .dataframe thead th {\n",
       "        text-align: right;\n",
       "    }\n",
       "</style>\n",
       "<table border=\"1\" class=\"dataframe\">\n",
       "  <thead>\n",
       "    <tr style=\"text-align: right;\">\n",
       "      <th></th>\n",
       "      <th>Total Cases</th>\n",
       "      <th>Total Deaths</th>\n",
       "      <th>Total Recovered</th>\n",
       "      <th>Active Cases</th>\n",
       "      <th>Critical Cases</th>\n",
       "      <th>Total Tests</th>\n",
       "      <th>Population</th>\n",
       "      <th>Country</th>\n",
       "      <th>Cluster Membership</th>\n",
       "    </tr>\n",
       "  </thead>\n",
       "  <tbody>\n",
       "    <tr>\n",
       "      <th>0</th>\n",
       "      <td>3893949.0</td>\n",
       "      <td>143263.0</td>\n",
       "      <td>1802110.0</td>\n",
       "      <td>1948576.0</td>\n",
       "      <td>16616.0</td>\n",
       "      <td>48324182.0</td>\n",
       "      <td>3.310976e+08</td>\n",
       "      <td>USA</td>\n",
       "      <td>2</td>\n",
       "    </tr>\n",
       "    <tr>\n",
       "      <th>1</th>\n",
       "      <td>2098389.0</td>\n",
       "      <td>79488.0</td>\n",
       "      <td>1371229.0</td>\n",
       "      <td>647672.0</td>\n",
       "      <td>8318.0</td>\n",
       "      <td>4911063.0</td>\n",
       "      <td>2.126324e+08</td>\n",
       "      <td>Brazil</td>\n",
       "      <td>2</td>\n",
       "    </tr>\n",
       "    <tr>\n",
       "      <th>2</th>\n",
       "      <td>1118107.0</td>\n",
       "      <td>27503.0</td>\n",
       "      <td>700399.0</td>\n",
       "      <td>390205.0</td>\n",
       "      <td>8944.0</td>\n",
       "      <td>13791869.0</td>\n",
       "      <td>1.380641e+09</td>\n",
       "      <td>India</td>\n",
       "      <td>0</td>\n",
       "    </tr>\n",
       "    <tr>\n",
       "      <th>3</th>\n",
       "      <td>771546.0</td>\n",
       "      <td>12342.0</td>\n",
       "      <td>550344.0</td>\n",
       "      <td>208860.0</td>\n",
       "      <td>2300.0</td>\n",
       "      <td>24991740.0</td>\n",
       "      <td>1.459377e+08</td>\n",
       "      <td>Russia</td>\n",
       "      <td>0</td>\n",
       "    </tr>\n",
       "    <tr>\n",
       "      <th>4</th>\n",
       "      <td>364328.0</td>\n",
       "      <td>5033.0</td>\n",
       "      <td>191059.0</td>\n",
       "      <td>168236.0</td>\n",
       "      <td>539.0</td>\n",
       "      <td>2471747.0</td>\n",
       "      <td>5.934275e+07</td>\n",
       "      <td>South Africa</td>\n",
       "      <td>0</td>\n",
       "    </tr>\n",
       "  </tbody>\n",
       "</table>\n",
       "</div>"
      ],
      "text/plain": [
       "   Total Cases  Total Deaths  Total Recovered  Active Cases  Critical Cases  \\\n",
       "0    3893949.0      143263.0        1802110.0     1948576.0         16616.0   \n",
       "1    2098389.0       79488.0        1371229.0      647672.0          8318.0   \n",
       "2    1118107.0       27503.0         700399.0      390205.0          8944.0   \n",
       "3     771546.0       12342.0         550344.0      208860.0          2300.0   \n",
       "4     364328.0        5033.0         191059.0      168236.0           539.0   \n",
       "\n",
       "   Total Tests    Population       Country  Cluster Membership  \n",
       "0   48324182.0  3.310976e+08           USA                   2  \n",
       "1    4911063.0  2.126324e+08        Brazil                   2  \n",
       "2   13791869.0  1.380641e+09         India                   0  \n",
       "3   24991740.0  1.459377e+08        Russia                   0  \n",
       "4    2471747.0  5.934275e+07  South Africa                   0  "
      ]
     },
     "execution_count": 44,
     "metadata": {},
     "output_type": "execute_result"
    }
   ],
   "source": [
    "# getting the dataset with real values and \"cluster membership\"\n",
    "columns_delete = ['Mortality_rate', 'Cases_per_ml', 'Deaths_per_ml', 'Recovered_per_ml', \n",
    "                  'Active_per_ml', 'Critical_per_ml', 'Tests_per_ml', 'Pop_ml']\n",
    "\n",
    "df_real = df_use.drop(columns=columns_delete, axis=0)\n",
    "df_real['Cluster Membership'] = clusters_km\n",
    "\n",
    "df_real.head()"
   ]
  },
  {
   "cell_type": "code",
   "execution_count": 45,
   "metadata": {},
   "outputs": [],
   "source": [
    "df_real.to_csv('df_real.csv', index=False)"
   ]
  },
  {
   "cell_type": "code",
   "execution_count": null,
   "metadata": {},
   "outputs": [],
   "source": []
  }
 ],
 "metadata": {
  "kernelspec": {
   "display_name": "Python 3",
   "language": "python",
   "name": "python3"
  },
  "language_info": {
   "codemirror_mode": {
    "name": "ipython",
    "version": 3
   },
   "file_extension": ".py",
   "mimetype": "text/x-python",
   "name": "python",
   "nbconvert_exporter": "python",
   "pygments_lexer": "ipython3",
   "version": "3.7.3"
  }
 },
 "nbformat": 4,
 "nbformat_minor": 4
}
